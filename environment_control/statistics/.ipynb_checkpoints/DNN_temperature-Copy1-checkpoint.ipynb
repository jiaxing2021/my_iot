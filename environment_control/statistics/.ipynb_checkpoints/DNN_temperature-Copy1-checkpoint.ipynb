{
 "cells": [
  {
   "cell_type": "code",
   "execution_count": 2,
   "id": "9ee14e7a",
   "metadata": {},
   "outputs": [],
   "source": [
    "import pandas as pd\n",
    "import torch\n",
    "import torch.nn as nn\n",
    "import torch.optim as optim\n",
    "from torch.utils.data import DataLoader, TensorDataset\n",
    "from sklearn.model_selection import train_test_split\n",
    "import matplotlib.pyplot as plt\n",
    "import numpy as np"
   ]
  },
  {
   "cell_type": "code",
   "execution_count": 3,
   "id": "c010dffb",
   "metadata": {},
   "outputs": [],
   "source": [
    "data = pd.read_csv(\"data.csv\")"
   ]
  },
  {
   "cell_type": "code",
   "execution_count": 4,
   "id": "95a1dd74",
   "metadata": {},
   "outputs": [
    {
     "data": {
      "text/html": [
       "<div>\n",
       "<style scoped>\n",
       "    .dataframe tbody tr th:only-of-type {\n",
       "        vertical-align: middle;\n",
       "    }\n",
       "\n",
       "    .dataframe tbody tr th {\n",
       "        vertical-align: top;\n",
       "    }\n",
       "\n",
       "    .dataframe thead th {\n",
       "        text-align: right;\n",
       "    }\n",
       "</style>\n",
       "<table border=\"1\" class=\"dataframe\">\n",
       "  <thead>\n",
       "    <tr style=\"text-align: right;\">\n",
       "      <th></th>\n",
       "      <th>Unnamed: 0</th>\n",
       "      <th>temp</th>\n",
       "      <th>humidity</th>\n",
       "    </tr>\n",
       "  </thead>\n",
       "  <tbody>\n",
       "    <tr>\n",
       "      <th>0</th>\n",
       "      <td>0</td>\n",
       "      <td>23.90</td>\n",
       "      <td>57.96</td>\n",
       "    </tr>\n",
       "    <tr>\n",
       "      <th>1</th>\n",
       "      <td>1</td>\n",
       "      <td>26.22</td>\n",
       "      <td>57.42</td>\n",
       "    </tr>\n",
       "    <tr>\n",
       "      <th>2</th>\n",
       "      <td>2</td>\n",
       "      <td>25.97</td>\n",
       "      <td>52.15</td>\n",
       "    </tr>\n",
       "    <tr>\n",
       "      <th>3</th>\n",
       "      <td>3</td>\n",
       "      <td>26.16</td>\n",
       "      <td>55.86</td>\n",
       "    </tr>\n",
       "    <tr>\n",
       "      <th>4</th>\n",
       "      <td>4</td>\n",
       "      <td>25.16</td>\n",
       "      <td>56.43</td>\n",
       "    </tr>\n",
       "  </tbody>\n",
       "</table>\n",
       "</div>"
      ],
      "text/plain": [
       "   Unnamed: 0   temp  humidity\n",
       "0           0  23.90     57.96\n",
       "1           1  26.22     57.42\n",
       "2           2  25.97     52.15\n",
       "3           3  26.16     55.86\n",
       "4           4  25.16     56.43"
      ]
     },
     "execution_count": 4,
     "metadata": {},
     "output_type": "execute_result"
    }
   ],
   "source": [
    "data.head()"
   ]
  },
  {
   "cell_type": "code",
   "execution_count": 5,
   "id": "fa1c43bc",
   "metadata": {},
   "outputs": [],
   "source": [
    "data_set = data.values[:,1:3]"
   ]
  },
  {
   "cell_type": "code",
   "execution_count": 6,
   "id": "70008fa9",
   "metadata": {},
   "outputs": [
    {
     "data": {
      "text/plain": [
       "(10000, 2)"
      ]
     },
     "execution_count": 6,
     "metadata": {},
     "output_type": "execute_result"
    }
   ],
   "source": [
    "data_set.shape"
   ]
  },
  {
   "cell_type": "code",
   "execution_count": 7,
   "id": "03b79a04",
   "metadata": {},
   "outputs": [
    {
     "data": {
      "text/plain": [
       "array([[23.9 , 57.96],\n",
       "       [26.22, 57.42],\n",
       "       [25.97, 52.15],\n",
       "       ...,\n",
       "       [12.33, 36.59],\n",
       "       [10.99, 37.58],\n",
       "       [12.87, 36.89]])"
      ]
     },
     "execution_count": 7,
     "metadata": {},
     "output_type": "execute_result"
    }
   ],
   "source": [
    "data_set"
   ]
  },
  {
   "cell_type": "code",
   "execution_count": 8,
   "id": "056eee13",
   "metadata": {},
   "outputs": [],
   "source": [
    "humidity = torch.empty(len(data_set[:,1])-3,4)\n",
    "for i in range(len(data_set[:,0])-3):\n",
    "    humidity[i,0] = torch.tensor(data_set[i,1])\n",
    "    humidity[i,1] = torch.tensor(data_set[i+1,1])\n",
    "    humidity[i,2] = torch.tensor(data_set[i+2,1])\n",
    "    humidity[i,3] = torch.tensor(data_set[i+3,1])"
   ]
  },
  {
   "cell_type": "code",
   "execution_count": 9,
   "id": "05c83ac2",
   "metadata": {},
   "outputs": [],
   "source": [
    "humidity_x = humidity[:,0:3]\n",
    "humidity_y = humidity[:,-1]"
   ]
  },
  {
   "cell_type": "code",
   "execution_count": 10,
   "id": "c8ceeb9d",
   "metadata": {},
   "outputs": [],
   "source": [
    "humidity_x_train, humidity_x_test, humidity_y_train,humidity_y_test = train_test_split(humidity_x, humidity_y,  \n",
    "                                                                        test_size = 0.1, shuffle = False)"
   ]
  },
  {
   "cell_type": "code",
   "execution_count": 11,
   "id": "2a419d46",
   "metadata": {},
   "outputs": [
    {
     "name": "stdout",
     "output_type": "stream",
     "text": [
      "torch.Size([8997, 3])\n",
      "torch.Size([8997])\n",
      "torch.Size([1000, 3])\n",
      "torch.Size([1000])\n"
     ]
    }
   ],
   "source": [
    "print(humidity_x_train.shape)\n",
    "print(humidity_y_train.shape)\n",
    "print(humidity_x_test.shape)\n",
    "print(humidity_y_test.shape)"
   ]
  },
  {
   "cell_type": "code",
   "execution_count": 13,
   "id": "dbfa4ff7",
   "metadata": {},
   "outputs": [
    {
     "name": "stdout",
     "output_type": "stream",
     "text": [
      "tensor([[57.9600, 57.4200, 52.1500],\n",
      "        [57.4200, 52.1500, 55.8600],\n",
      "        [52.1500, 55.8600, 56.4300],\n",
      "        [55.8600, 56.4300, 57.0600],\n",
      "        [56.4300, 57.0600, 53.8000]])\n",
      "tensor([55.8600, 56.4300, 57.0600, 53.8000, 57.6700])\n",
      "tensor([85.5500, 85.2200, 90.0100])\n",
      "tensor(87.2600)\n",
      "<class 'torch.Tensor'>\n"
     ]
    }
   ],
   "source": [
    "print(humidity_x_train[0:5,:])\n",
    "print(humidity_y_train[0:5])\n",
    "print(humidity_x_test[2,:])\n",
    "print(humidity_y_test[2])\n",
    "print(type(humidity_y_test[2]))"
   ]
  },
  {
   "cell_type": "code",
   "execution_count": 14,
   "id": "1998e21d",
   "metadata": {},
   "outputs": [],
   "source": [
    "class DNN(nn.Module):\n",
    "    def __init__(self):\n",
    "        super(DNN, self).__init__()\n",
    "        self.fc1 = nn.Linear(3, 32)\n",
    "        self.fc2 = nn.Linear(32, 1)\n",
    "        self.relu = nn.ReLU()\n",
    "        self.dropout = nn.Dropout(p=0.2)\n",
    "        \n",
    "    def forward(self, x):\n",
    "        x = self.fc1(x)\n",
    "        x = self.relu(x)\n",
    "        x = self.dropout(x)\n",
    "        x = self.fc2(x)\n",
    "        return x"
   ]
  },
  {
   "cell_type": "code",
   "execution_count": 15,
   "id": "87b58a50",
   "metadata": {},
   "outputs": [],
   "source": [
    "# 定义训练函数\n",
    "def train(model, device, train_loader, optimizer, criterion):\n",
    "    model.train()\n",
    "    for data, target in train_loader:\n",
    "        data, target = data.to(device), target.to(device)\n",
    "        optimizer.zero_grad()\n",
    "        output = model(data)\n",
    "        loss = criterion(output, target)\n",
    "        loss.backward()\n",
    "        optimizer.step()\n",
    "\n",
    "# 定义测试函数\n",
    "def test(model, device, test_loader, criterion):\n",
    "    model.eval()\n",
    "    test_loss = 0\n",
    "    with torch.no_grad():\n",
    "        for data, target in test_loader:\n",
    "            data, target = data.to(device), target.to(device)\n",
    "            output = model(data)\n",
    "            test_loss += criterion(output, target).item()\n",
    "    test_loss /= len(test_loader.dataset)\n",
    "    return test_loss"
   ]
  },
  {
   "cell_type": "code",
   "execution_count": 16,
   "id": "f2ead18b",
   "metadata": {},
   "outputs": [
    {
     "name": "stderr",
     "output_type": "stream",
     "text": [
      "/Users/jiaxingzhang/env/lib/python3.9/site-packages/torch/nn/modules/loss.py:535: UserWarning: Using a target size (torch.Size([32])) that is different to the input size (torch.Size([32, 1])). This will likely lead to incorrect results due to broadcasting. Please ensure they have the same size.\n",
      "  return F.mse_loss(input, target, reduction=self.reduction)\n",
      "/Users/jiaxingzhang/env/lib/python3.9/site-packages/torch/nn/modules/loss.py:535: UserWarning: Using a target size (torch.Size([5])) that is different to the input size (torch.Size([5, 1])). This will likely lead to incorrect results due to broadcasting. Please ensure they have the same size.\n",
      "  return F.mse_loss(input, target, reduction=self.reduction)\n",
      "/Users/jiaxingzhang/env/lib/python3.9/site-packages/torch/nn/modules/loss.py:535: UserWarning: Using a target size (torch.Size([8])) that is different to the input size (torch.Size([8, 1])). This will likely lead to incorrect results due to broadcasting. Please ensure they have the same size.\n",
      "  return F.mse_loss(input, target, reduction=self.reduction)\n"
     ]
    },
    {
     "name": "stdout",
     "output_type": "stream",
     "text": [
      "Epoch 1, Test Loss: 0.4585\n",
      "best model saved\n",
      "Epoch 2, Test Loss: 0.5569\n",
      "Epoch 3, Test Loss: 0.6279\n",
      "Epoch 4, Test Loss: 1.7498\n",
      "Epoch 5, Test Loss: 1.0785\n",
      "Epoch 6, Test Loss: 0.8277\n",
      "Epoch 7, Test Loss: 0.8143\n",
      "Epoch 8, Test Loss: 1.6124\n",
      "Epoch 9, Test Loss: 1.2913\n",
      "Epoch 10, Test Loss: 0.9936\n",
      "Epoch 11, Test Loss: 1.1778\n",
      "Epoch 12, Test Loss: 0.6892\n",
      "Epoch 13, Test Loss: 1.1676\n",
      "Epoch 14, Test Loss: 0.7137\n",
      "Epoch 15, Test Loss: 1.8425\n",
      "Epoch 16, Test Loss: 1.1575\n",
      "Epoch 17, Test Loss: 1.1797\n",
      "Epoch 18, Test Loss: 1.2512\n",
      "Epoch 19, Test Loss: 1.2610\n",
      "Epoch 20, Test Loss: 0.7326\n",
      "Epoch 21, Test Loss: 0.8086\n",
      "Epoch 22, Test Loss: 0.9465\n",
      "Epoch 23, Test Loss: 0.6181\n",
      "Epoch 24, Test Loss: 0.7171\n",
      "Epoch 25, Test Loss: 1.5952\n",
      "Epoch 26, Test Loss: 0.8645\n",
      "Epoch 27, Test Loss: 1.4656\n",
      "Epoch 28, Test Loss: 1.6599\n",
      "Epoch 29, Test Loss: 0.7084\n",
      "Epoch 30, Test Loss: 0.9232\n",
      "Epoch 31, Test Loss: 1.4098\n",
      "Epoch 32, Test Loss: 1.5724\n",
      "Epoch 33, Test Loss: 1.2537\n",
      "Epoch 34, Test Loss: 1.3672\n",
      "Epoch 35, Test Loss: 2.1297\n",
      "Epoch 36, Test Loss: 0.8934\n",
      "Epoch 37, Test Loss: 1.5634\n",
      "Epoch 38, Test Loss: 1.4022\n",
      "Epoch 39, Test Loss: 0.8170\n",
      "Epoch 40, Test Loss: 1.2893\n",
      "Epoch 41, Test Loss: 0.7775\n",
      "Epoch 42, Test Loss: 1.6080\n",
      "Epoch 43, Test Loss: 0.7526\n",
      "Epoch 44, Test Loss: 1.2105\n",
      "Epoch 45, Test Loss: 0.7851\n",
      "Epoch 46, Test Loss: 1.0581\n",
      "Epoch 47, Test Loss: 1.0245\n",
      "Epoch 48, Test Loss: 1.2109\n",
      "Epoch 49, Test Loss: 0.9163\n",
      "Epoch 50, Test Loss: 0.8565\n"
     ]
    }
   ],
   "source": [
    "if __name__ == '__main__':\n",
    "  \n",
    "    x_train = humidity_x_train\n",
    "    y_train = humidity_y_train\n",
    "    train_data = TensorDataset(x_train, y_train)\n",
    "    train_loader = DataLoader(train_data, batch_size=32, shuffle=False)\n",
    "    \n",
    "    x_test = humidity_x_test\n",
    "    y_test = humidity_y_test\n",
    "    test_data = TensorDataset(x_test, y_test)\n",
    "    test_loader = DataLoader(test_data, batch_size=32, shuffle=False)\n",
    "    \n",
    "    \n",
    "    device = torch.device('cuda' if torch.cuda.is_available() else 'cpu')\n",
    "    model = DNN().to(device)\n",
    "    optimizer = optim.Adam(model.parameters(), lr=0.01)\n",
    "    criterion = nn.MSELoss()\n",
    "    \n",
    "   \n",
    "    epochs = 50\n",
    "    best_loss = 1000\n",
    "    for epoch in range(epochs):\n",
    "        train(model, device, train_loader, optimizer, criterion)\n",
    "        test_loss = test(model, device, test_loader, criterion)\n",
    "        print('Epoch {}, Test Loss: {:.4f}'.format(epoch+1, test_loss))\n",
    "        if best_loss > test_loss:\n",
    "            best_loss = test_loss\n",
    "            torch.save(model,\"DNN_humidity.pt\")\n",
    "            print('best model saved')\n",
    "\n"
   ]
  },
  {
   "cell_type": "code",
   "execution_count": 17,
   "id": "37efbef7",
   "metadata": {},
   "outputs": [
    {
     "data": {
      "text/plain": [
       "torch.Size([100, 3])"
      ]
     },
     "execution_count": 17,
     "metadata": {},
     "output_type": "execute_result"
    }
   ],
   "source": [
    "x = np.arange(0,100)\n",
    "test = humidity_x_test[0:100,:]\n",
    "test.shape"
   ]
  },
  {
   "cell_type": "code",
   "execution_count": 18,
   "id": "b5b3960f",
   "metadata": {},
   "outputs": [],
   "source": [
    "result = np.zeros([100])\n",
    "predictor = torch.load(\"DNN_humidity.pt\")\n",
    "for i in range(len(test)):\n",
    "    result[i] = predictor(test[i])"
   ]
  },
  {
   "cell_type": "code",
   "execution_count": 19,
   "id": "861381fc",
   "metadata": {},
   "outputs": [
    {
     "data": {
      "text/plain": [
       "numpy.ndarray"
      ]
     },
     "execution_count": 19,
     "metadata": {},
     "output_type": "execute_result"
    }
   ],
   "source": [
    "type(result)"
   ]
  },
  {
   "cell_type": "code",
   "execution_count": 21,
   "id": "a2a07f67",
   "metadata": {},
   "outputs": [
    {
     "data": {
      "text/plain": [
       "[<matplotlib.lines.Line2D at 0x17f8c4940>]"
      ]
     },
     "execution_count": 21,
     "metadata": {},
     "output_type": "execute_result"
    },
    {
     "data": {
      "image/png": "[encoded data removed]",
      "text/plain": [
       "<Figure size 640x480 with 1 Axes>"
      ]
     },
     "metadata": {},
     "output_type": "display_data"
    }
   ],
   "source": [
    "plt.plot(x,humidity_y_test[0:100])\n",
    "plt.plot(x,result)"
   ]
  },
  {
   "cell_type": "code",
   "execution_count": 22,
   "id": "907a7441",
   "metadata": {},
   "outputs": [
    {
     "data": {
      "text/plain": [
       "[<matplotlib.lines.Line2D at 0x17fdc2100>]"
      ]
     },
     "execution_count": 22,
     "metadata": {},
     "output_type": "execute_result"
    },
    {
     "data": {
      "image/png": "[encoded data removed]",
      "text/plain": [
       "<Figure size 640x480 with 1 Axes>"
      ]
     },
     "metadata": {},
     "output_type": "display_data"
    }
   ],
   "source": [
    "train = humidity_x_train[0:100,:]\n",
    "result_train = np.zeros([100])\n",
    "for i in range(len(train)):\n",
    "    result_train[i] = predictor(train[i])\n",
    "plt.plot(x,humidity_y_train[0:100])\n",
    "plt.plot(x,result_train)"
   ]
  },
  {
   "cell_type": "code",
   "execution_count": 23,
   "id": "8280c532",
   "metadata": {},
   "outputs": [
    {
     "name": "stdout",
     "output_type": "stream",
     "text": [
      "tensor([-1.2025,  4.7221,  1.5489, -1.4662, -1.0033,  0.0501,  0.0765,  1.5798,\n",
      "        -0.7587, -0.6589], dtype=torch.float64)\n"
     ]
    }
   ],
   "source": [
    "difference = humidity_y_test[0:100] - result\n",
    "print(difference[0:10])"
   ]
  },
  {
   "cell_type": "code",
   "execution_count": null,
   "id": "de47781d",
   "metadata": {},
   "outputs": [],
   "source": []
  }
 ],
 "metadata": {
  "kernelspec": {
   "display_name": "Python 3 (ipykernel)",
   "language": "python",
   "name": "python3"
  },
  "language_info": {
   "codemirror_mode": {
    "name": "ipython",
    "version": 3
   },
   "file_extension": ".py",
   "mimetype": "text/x-python",
   "name": "python",
   "nbconvert_exporter": "python",
   "pygments_lexer": "ipython3",
   "version": "3.9.6"
  }
 },
 "nbformat": 4,
 "nbformat_minor": 5
}
