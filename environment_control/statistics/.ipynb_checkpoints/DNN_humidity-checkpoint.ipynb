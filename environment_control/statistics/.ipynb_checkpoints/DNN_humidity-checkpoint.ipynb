{
 "cells": [
  {
   "cell_type": "code",
   "execution_count": 2,
   "id": "9ee14e7a",
   "metadata": {},
   "outputs": [],
   "source": [
    "import pandas as pd\n",
    "import torch\n",
    "import torch.nn as nn\n",
    "import torch.optim as optim\n",
    "from torch.utils.data import DataLoader, TensorDataset\n",
    "from sklearn.model_selection import train_test_split\n",
    "import matplotlib.pyplot as plt\n",
    "import numpy as np"
   ]
  },
  {
   "cell_type": "code",
   "execution_count": 3,
   "id": "c010dffb",
   "metadata": {},
   "outputs": [],
   "source": [
    "data = pd.read_csv(\"data.csv\")"
   ]
  },
  {
   "cell_type": "code",
   "execution_count": 4,
   "id": "95a1dd74",
   "metadata": {},
   "outputs": [
    {
     "data": {
      "text/html": [
       "<div>\n",
       "<style scoped>\n",
       "    .dataframe tbody tr th:only-of-type {\n",
       "        vertical-align: middle;\n",
       "    }\n",
       "\n",
       "    .dataframe tbody tr th {\n",
       "        vertical-align: top;\n",
       "    }\n",
       "\n",
       "    .dataframe thead th {\n",
       "        text-align: right;\n",
       "    }\n",
       "</style>\n",
       "<table border=\"1\" class=\"dataframe\">\n",
       "  <thead>\n",
       "    <tr style=\"text-align: right;\">\n",
       "      <th></th>\n",
       "      <th>Unnamed: 0</th>\n",
       "      <th>temp</th>\n",
       "      <th>humidity</th>\n",
       "    </tr>\n",
       "  </thead>\n",
       "  <tbody>\n",
       "    <tr>\n",
       "      <th>0</th>\n",
       "      <td>0</td>\n",
       "      <td>23.90</td>\n",
       "      <td>57.96</td>\n",
       "    </tr>\n",
       "    <tr>\n",
       "      <th>1</th>\n",
       "      <td>1</td>\n",
       "      <td>26.22</td>\n",
       "      <td>57.42</td>\n",
       "    </tr>\n",
       "    <tr>\n",
       "      <th>2</th>\n",
       "      <td>2</td>\n",
       "      <td>25.97</td>\n",
       "      <td>52.15</td>\n",
       "    </tr>\n",
       "    <tr>\n",
       "      <th>3</th>\n",
       "      <td>3</td>\n",
       "      <td>26.16</td>\n",
       "      <td>55.86</td>\n",
       "    </tr>\n",
       "    <tr>\n",
       "      <th>4</th>\n",
       "      <td>4</td>\n",
       "      <td>25.16</td>\n",
       "      <td>56.43</td>\n",
       "    </tr>\n",
       "  </tbody>\n",
       "</table>\n",
       "</div>"
      ],
      "text/plain": [
       "   Unnamed: 0   temp  humidity\n",
       "0           0  23.90     57.96\n",
       "1           1  26.22     57.42\n",
       "2           2  25.97     52.15\n",
       "3           3  26.16     55.86\n",
       "4           4  25.16     56.43"
      ]
     },
     "execution_count": 4,
     "metadata": {},
     "output_type": "execute_result"
    }
   ],
   "source": [
    "data.head()"
   ]
  },
  {
   "cell_type": "code",
   "execution_count": 5,
   "id": "fa1c43bc",
   "metadata": {},
   "outputs": [],
   "source": [
    "data_set = data.values[:,1:3]"
   ]
  },
  {
   "cell_type": "code",
   "execution_count": 6,
   "id": "70008fa9",
   "metadata": {},
   "outputs": [
    {
     "data": {
      "text/plain": [
       "(10000, 2)"
      ]
     },
     "execution_count": 6,
     "metadata": {},
     "output_type": "execute_result"
    }
   ],
   "source": [
    "data_set.shape"
   ]
  },
  {
   "cell_type": "code",
   "execution_count": 7,
   "id": "03b79a04",
   "metadata": {},
   "outputs": [
    {
     "data": {
      "text/plain": [
       "array([[23.9 , 57.96],\n",
       "       [26.22, 57.42],\n",
       "       [25.97, 52.15],\n",
       "       ...,\n",
       "       [12.33, 36.59],\n",
       "       [10.99, 37.58],\n",
       "       [12.87, 36.89]])"
      ]
     },
     "execution_count": 7,
     "metadata": {},
     "output_type": "execute_result"
    }
   ],
   "source": [
    "data_set"
   ]
  },
  {
   "cell_type": "code",
   "execution_count": 8,
   "id": "056eee13",
   "metadata": {},
   "outputs": [],
   "source": [
    "humidity = torch.empty(len(data_set[:,1])-3,4)\n",
    "for i in range(len(data_set[:,1])-3):\n",
    "    humidity[i,0] = torch.tensor(data_set[i,1])\n",
    "    humidity[i,1] = torch.tensor(data_set[i+1,1])\n",
    "    humidity[i,2] = torch.tensor(data_set[i+2,1])\n",
    "    humidity[i,3] = torch.tensor(data_set[i+3,1])"
   ]
  },
  {
   "cell_type": "code",
   "execution_count": 9,
   "id": "6065a179",
   "metadata": {},
   "outputs": [],
   "source": [
    "humidity_x = humidity[:,0:3]\n",
    "humidity_y = humidity[:,-1]"
   ]
  },
  {
   "cell_type": "code",
   "execution_count": 10,
   "id": "13277244",
   "metadata": {},
   "outputs": [],
   "source": [
    "humidity_x_train, humidity_x_test,humidity_y_train, humidity_y_test = train_test_split(humidity_x, humidity_y,  \n",
    "                                                                        test_size = 0.1, shuffle = False)"
   ]
  },
  {
   "cell_type": "code",
   "execution_count": 19,
   "id": "a9777444",
   "metadata": {},
   "outputs": [
    {
     "data": {
      "text/plain": [
       "torch.Size([10000, 1, 1])"
      ]
     },
     "execution_count": 19,
     "metadata": {},
     "output_type": "execute_result"
    }
   ],
   "source": [
    "humidity_label = torch.empty([len(data_set[:,0]),1,1])\n",
    "humidity_label.shape"
   ]
  },
  {
   "cell_type": "code",
   "execution_count": 11,
   "id": "d81d7b35",
   "metadata": {},
   "outputs": [
    {
     "name": "stdout",
     "output_type": "stream",
     "text": [
      "torch.Size([10000, 3, 2, 1])\n",
      "torch.Size([10000])\n"
     ]
    }
   ],
   "source": [
    "print(humidity_x_train.shape)\n",
    "print(humidity_y_train.shape)\n",
    "print(humidity_x_test.shape)\n",
    "print(temp_y_test.shape)"
   ]
  },
  {
   "cell_type": "code",
   "execution_count": 12,
   "id": "db53b8c3",
   "metadata": {},
   "outputs": [
    {
     "name": "stdout",
     "output_type": "stream",
     "text": [
      "tensor([[[[23.2900],\n",
      "          [48.0000]],\n",
      "\n",
      "         [[25.8300],\n",
      "          [41.0200]],\n",
      "\n",
      "         [[25.3000],\n",
      "          [40.9400]]],\n",
      "\n",
      "\n",
      "        [[[25.8300],\n",
      "          [41.0200]],\n",
      "\n",
      "         [[25.3000],\n",
      "          [40.9400]],\n",
      "\n",
      "         [[26.7100],\n",
      "          [41.5500]]]])\n",
      "tensor([41.5500, 43.1100], dtype=torch.float64)\n"
     ]
    }
   ],
   "source": [
    "humidity_x = humidity_temp[0:-3,:,:]\n",
    "humidity_y = humidity_label[3:]\n",
    "print(humidity_x[0:2,:,:])\n",
    "print(humidity_y[0:2])"
   ]
  },
  {
   "cell_type": "code",
   "execution_count": 13,
   "id": "c8ceeb9d",
   "metadata": {},
   "outputs": [],
   "source": [
    "humidity_x_train, humidity_x_test, humidity_y_train, humidity_y_test = train_test_split(humidity_x, humidity_y,  \n",
    "                                                                        test_size = 0.1, shuffle = False)"
   ]
  },
  {
   "cell_type": "code",
   "execution_count": 14,
   "id": "2a419d46",
   "metadata": {},
   "outputs": [
    {
     "name": "stdout",
     "output_type": "stream",
     "text": [
      "torch.Size([8997, 3, 2, 1])\n",
      "torch.Size([8997])\n",
      "torch.Size([1000, 3, 2, 1])\n",
      "torch.Size([1000])\n"
     ]
    }
   ],
   "source": [
    "print(humidity_x_train.shape)\n",
    "print(humidity_y_train.shape)\n",
    "print(humidity_x_test.shape)\n",
    "print(humidity_y_test.shape)"
   ]
  },
  {
   "cell_type": "code",
   "execution_count": 15,
   "id": "a8f85dbc",
   "metadata": {},
   "outputs": [],
   "source": [
    "class CNN(nn.Module):\n",
    "    def __init__(self):\n",
    "        super(CNN, self).__init__()\n",
    "        self.conv1 = nn.Conv2d(3, 32, (2,1))  # 3 input channels, 32 output channels, 1x2 kernel\n",
    "        self.fc1 = nn.Linear(32, 64)\n",
    "        self.fc2 = nn.Linear(64, 128)\n",
    "        self.fc3 = nn.Linear(128, 64)\n",
    "        self.fc4 = nn.Linear(64, 32)\n",
    "        self.fc5 = nn.Linear(32, 1)\n",
    "        self.relu = nn.ReLU()\n",
    "\n",
    "    def forward(self, x):\n",
    "        x = torch.relu(self.conv1(x))\n",
    "        x = x.view(x.size()[0], -1)# flatten the output of the convolutional layers\n",
    "        x = self.fc1(x)\n",
    "        x = self.relu(x)\n",
    "        x = self.fc2(x)\n",
    "        x = self.relu(x)\n",
    "        x = self.fc3(x)\n",
    "        x = self.relu(x)\n",
    "        x = self.fc4(x)\n",
    "        x = self.relu(x)\n",
    "        x = self.fc5(x)\n",
    "        return x"
   ]
  },
  {
   "cell_type": "code",
   "execution_count": 16,
   "id": "87b58a50",
   "metadata": {},
   "outputs": [],
   "source": [
    "# 定义训练函数\n",
    "def train(model, device, train_loader, optimizer, criterion):\n",
    "    model.train()\n",
    "    for data, target in train_loader:\n",
    "        data, target = data.to(device), target.to(device)\n",
    "        optimizer.zero_grad()\n",
    "        output = model(data).double()\n",
    "        loss = criterion(output, target)\n",
    "        loss.backward()\n",
    "        optimizer.step()\n",
    "\n",
    "# 定义测试函数\n",
    "def test(model, device, test_loader, criterion):\n",
    "    model.eval()\n",
    "    test_loss = 0\n",
    "    with torch.no_grad():\n",
    "        for data, target in test_loader:\n",
    "            data, target = data.to(device), target.to(device)\n",
    "            output = model(data)\n",
    "            test_loss += criterion(output, target).item()\n",
    "    test_loss /= len(test_loader.dataset)\n",
    "    return test_loss"
   ]
  },
  {
   "cell_type": "code",
   "execution_count": 17,
   "id": "f2ead18b",
   "metadata": {},
   "outputs": [
    {
     "name": "stderr",
     "output_type": "stream",
     "text": [
      "/Users/jiaxingzhang/env/lib/python3.9/site-packages/torch/nn/modules/loss.py:535: UserWarning: Using a target size (torch.Size([32])) that is different to the input size (torch.Size([32, 1])). This will likely lead to incorrect results due to broadcasting. Please ensure they have the same size.\n",
      "  return F.mse_loss(input, target, reduction=self.reduction)\n",
      "/Users/jiaxingzhang/env/lib/python3.9/site-packages/torch/nn/modules/loss.py:535: UserWarning: Using a target size (torch.Size([5])) that is different to the input size (torch.Size([5, 1])). This will likely lead to incorrect results due to broadcasting. Please ensure they have the same size.\n",
      "  return F.mse_loss(input, target, reduction=self.reduction)\n",
      "/Users/jiaxingzhang/env/lib/python3.9/site-packages/torch/nn/modules/loss.py:535: UserWarning: Using a target size (torch.Size([8])) that is different to the input size (torch.Size([8, 1])). This will likely lead to incorrect results due to broadcasting. Please ensure they have the same size.\n",
      "  return F.mse_loss(input, target, reduction=self.reduction)\n"
     ]
    },
    {
     "name": "stdout",
     "output_type": "stream",
     "text": [
      "Epoch 1, Test Loss: 0.3179\n",
      "best model saved\n",
      "Epoch 2, Test Loss: 0.3103\n",
      "best model saved\n",
      "Epoch 3, Test Loss: 0.3985\n",
      "Epoch 4, Test Loss: 0.4121\n",
      "Epoch 5, Test Loss: 0.6124\n",
      "Epoch 6, Test Loss: 0.7285\n",
      "Epoch 7, Test Loss: 1.9288\n",
      "Epoch 8, Test Loss: 0.9143\n",
      "Epoch 9, Test Loss: 1.3184\n",
      "Epoch 10, Test Loss: 2.9550\n",
      "Epoch 11, Test Loss: 2.8877\n",
      "Epoch 12, Test Loss: 0.9426\n",
      "Epoch 13, Test Loss: 1.9288\n",
      "Epoch 14, Test Loss: 0.7681\n",
      "Epoch 15, Test Loss: 1.2965\n",
      "Epoch 16, Test Loss: 1.2781\n",
      "Epoch 17, Test Loss: 1.9211\n",
      "Epoch 18, Test Loss: 1.1977\n",
      "Epoch 19, Test Loss: 2.5829\n",
      "Epoch 20, Test Loss: 1.2543\n",
      "Epoch 21, Test Loss: 1.8056\n",
      "Epoch 22, Test Loss: 1.3518\n",
      "Epoch 23, Test Loss: 1.3081\n",
      "Epoch 24, Test Loss: 1.7590\n",
      "Epoch 25, Test Loss: 1.4690\n",
      "Epoch 26, Test Loss: 1.3814\n",
      "Epoch 27, Test Loss: 2.0914\n",
      "Epoch 28, Test Loss: 1.2736\n",
      "Epoch 29, Test Loss: 0.7127\n",
      "Epoch 30, Test Loss: 0.8885\n",
      "Epoch 31, Test Loss: 0.7285\n",
      "Epoch 32, Test Loss: 0.7136\n",
      "Epoch 33, Test Loss: 1.3327\n",
      "Epoch 34, Test Loss: 1.1874\n",
      "Epoch 35, Test Loss: 0.5773\n",
      "Epoch 36, Test Loss: 0.7286\n",
      "Epoch 37, Test Loss: 1.1134\n",
      "Epoch 38, Test Loss: 0.7383\n",
      "Epoch 39, Test Loss: 0.6721\n",
      "Epoch 40, Test Loss: 0.8303\n",
      "Epoch 41, Test Loss: 1.1022\n",
      "Epoch 42, Test Loss: 0.5510\n",
      "Epoch 43, Test Loss: 1.8158\n",
      "Epoch 44, Test Loss: 0.6421\n",
      "Epoch 45, Test Loss: 0.6691\n",
      "Epoch 46, Test Loss: 0.9159\n",
      "Epoch 47, Test Loss: 0.8734\n",
      "Epoch 48, Test Loss: 0.7017\n",
      "Epoch 49, Test Loss: 0.5648\n",
      "Epoch 50, Test Loss: 0.5344\n"
     ]
    }
   ],
   "source": [
    "if __name__ == '__main__':\n",
    "    \n",
    "    x_train = humidity_x_train\n",
    "    y_train = humidity_y_train\n",
    "    train_data = TensorDataset(x_train, y_train)\n",
    "    train_loader = DataLoader(train_data, batch_size=32, shuffle=False)\n",
    "    \n",
    "    x_test = humidity_x_test\n",
    "    y_test = humidity_y_test\n",
    "    test_data = TensorDataset(x_test, y_test)\n",
    "    test_loader = DataLoader(test_data, batch_size=32, shuffle=False)\n",
    "    \n",
    "    \n",
    "    device = torch.device('cuda' if torch.cuda.is_available() else 'cpu')\n",
    "    model = CNN().to(device)\n",
    "    optimizer = optim.Adam(model.parameters(), lr=0.01)\n",
    "    criterion = nn.MSELoss()\n",
    "    \n",
    "    \n",
    "    epochs = 50\n",
    "    best_loss = 10000\n",
    "    for epoch in range(epochs):\n",
    "        train(model, device, train_loader, optimizer, criterion)\n",
    "        test_loss = test(model, device, test_loader, criterion)\n",
    "\n",
    "        print('Epoch {}, Test Loss: {:.4f}'.format(epoch+1, test_loss))\n",
    "        if best_loss > test_loss:\n",
    "            best_loss = test_loss\n",
    "            torch.save(model,\"CNN_humidity.pt\")\n",
    "            print(\"best model saved\")\n",
    "\n"
   ]
  },
  {
   "cell_type": "code",
   "execution_count": 18,
   "id": "37efbef7",
   "metadata": {},
   "outputs": [
    {
     "data": {
      "text/plain": [
       "torch.Size([100, 3, 2, 1])"
      ]
     },
     "execution_count": 18,
     "metadata": {},
     "output_type": "execute_result"
    }
   ],
   "source": [
    "test = humidity_x_test[0:100,:,:,:]\n",
    "test.shape"
   ]
  },
  {
   "cell_type": "code",
   "execution_count": 19,
   "id": "a6882fa5",
   "metadata": {},
   "outputs": [],
   "source": [
    "predictor = torch.load(\"CNN.pt\")"
   ]
  },
  {
   "cell_type": "code",
   "execution_count": 20,
   "id": "7da688f2",
   "metadata": {},
   "outputs": [],
   "source": [
    "result = np.zeros([100])\n",
    "result = predictor(test).detach().numpy()"
   ]
  },
  {
   "cell_type": "code",
   "execution_count": 21,
   "id": "861381fc",
   "metadata": {},
   "outputs": [
    {
     "data": {
      "text/plain": [
       "numpy.ndarray"
      ]
     },
     "execution_count": 21,
     "metadata": {},
     "output_type": "execute_result"
    }
   ],
   "source": [
    "type(result)"
   ]
  },
  {
   "cell_type": "code",
   "execution_count": 22,
   "id": "a2a07f67",
   "metadata": {},
   "outputs": [
    {
     "name": "stdout",
     "output_type": "stream",
     "text": [
      "<class 'numpy.ndarray'>\n"
     ]
    },
    {
     "data": {
      "text/plain": [
       "[<matplotlib.lines.Line2D at 0x319a84310>]"
      ]
     },
     "execution_count": 22,
     "metadata": {},
     "output_type": "execute_result"
    },
    {
     "data": {
      "image/png": "[encoded data removed]",
      "text/plain": [
       "<Figure size 640x480 with 1 Axes>"
      ]
     },
     "metadata": {},
     "output_type": "display_data"
    }
   ],
   "source": [
    "x = np.arange(0,100)\n",
    "print(type(x))\n",
    "plt.plot(x,humidity_y_test[0:100])\n",
    "plt.plot(x,result)"
   ]
  },
  {
   "cell_type": "code",
   "execution_count": 23,
   "id": "8280c532",
   "metadata": {},
   "outputs": [
    {
     "name": "stdout",
     "output_type": "stream",
     "text": [
      "tensor([ 4.0717,  6.0381, -1.3918,  0.8885, -1.3351,  3.0448,  6.4047, -1.0584,\n",
      "         0.6398, -1.4220,  2.9213,  3.1389,  1.4558,  4.6250,  0.9167,  2.5318,\n",
      "         2.9230,  1.3271,  2.2942,  2.3886, -1.6762, -1.1603,  6.1723, -0.8883,\n",
      "         1.6292,  3.6061, -1.9038,  0.0623,  0.0312,  0.7193, -1.0160,  0.9866,\n",
      "         1.4832,  3.3319,  2.3487,  0.6274,  1.1714,  2.0610,  2.6026, -0.8704,\n",
      "         2.1920, -0.3374,  2.3441,  0.9908, -2.1549,  6.5872,  2.7634,  1.5015,\n",
      "        -1.1255,  0.3367, -0.2182,  2.4357,  0.7893, -0.4079,  3.9370,  3.7039,\n",
      "        -1.7000, -2.1182,  2.8120,  0.7874,  1.6029, -5.5151,  2.4282,  1.1138,\n",
      "         1.4770,  1.9318,  1.0628, -0.4606,  3.4153, -0.4669,  7.7370, -1.8237,\n",
      "        -1.6776,  0.6650, -1.3657, -2.3476,  0.5971, -1.6001, -1.6322,  6.0918,\n",
      "         3.4580, -1.1973, -1.2237,  4.4071, -0.3292,  1.4125,  0.5533, -1.3105,\n",
      "         2.4191, -0.5921,  3.5289, -2.8408,  1.9289, -1.9713, -0.0085, -0.4836,\n",
      "         1.3933, -2.8780,  5.0371, -1.6262], dtype=torch.float64)\n"
     ]
    }
   ],
   "source": [
    "difference = humidity_y_test[0:100] - result[:,0]\n",
    "print(difference)"
   ]
  }
 ],
 "metadata": {
  "kernelspec": {
   "display_name": "Python 3 (ipykernel)",
   "language": "python",
   "name": "python3"
  },
  "language_info": {
   "codemirror_mode": {
    "name": "ipython",
    "version": 3
   },
   "file_extension": ".py",
   "mimetype": "text/x-python",
   "name": "python",
   "nbconvert_exporter": "python",
   "pygments_lexer": "ipython3",
   "version": "3.9.6"
  }
 },
 "nbformat": 4,
 "nbformat_minor": 5
}
