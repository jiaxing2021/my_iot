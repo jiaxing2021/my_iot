{
 "cells": [
  {
   "cell_type": "code",
   "execution_count": 1,
   "id": "f8df27cc",
   "metadata": {},
   "outputs": [],
   "source": [
    "import math\n",
    "import random\n",
    "import numpy as np\n",
    "import pandas as pd"
   ]
  },
  {
   "cell_type": "code",
   "execution_count": 2,
   "id": "574ddf38",
   "metadata": {},
   "outputs": [],
   "source": [
    "temperature = []\n",
    "for x in range(10000):\n",
    "    e = random.gauss(0,1)\n",
    "    #print(e)\n",
    "    y = round((math.sin(x/100))*25+25+e,2)\n",
    "    temperature.append(y)"
   ]
  },
  {
   "cell_type": "code",
   "execution_count": 3,
   "id": "104aec4d",
   "metadata": {},
   "outputs": [],
   "source": [
    "humidity = []\n",
    "for x in range(10000):\n",
    "    e = random.gauss(0,1)\n",
    "    #print(e)\n",
    "    y = round((math.sin(x/100))*35+55+2*e,2)\n",
    "    humidity.append(y)"
   ]
  },
  {
   "cell_type": "code",
   "execution_count": 4,
   "id": "241d558a",
   "metadata": {},
   "outputs": [],
   "source": [
    "dataframe = pd.DataFrame({'temp':temperature,'humidity':humidity})"
   ]
  },
  {
   "cell_type": "code",
   "execution_count": 5,
   "id": "a9b4093b",
   "metadata": {},
   "outputs": [],
   "source": [
    "dataframe.to_csv(\"data.csv\")"
   ]
  },
  {
   "cell_type": "code",
   "execution_count": 6,
   "id": "4a90ab64",
   "metadata": {},
   "outputs": [
    {
     "name": "stdout",
     "output_type": "stream",
     "text": [
      "finish\n"
     ]
    }
   ],
   "source": [
    "print(\"finish\")"
   ]
  },
  {
   "cell_type": "code",
   "execution_count": null,
   "id": "447fed0d",
   "metadata": {},
   "outputs": [],
   "source": []
  }
 ],
 "metadata": {
  "kernelspec": {
   "display_name": "Python 3 (ipykernel)",
   "language": "python",
   "name": "python3"
  },
  "language_info": {
   "codemirror_mode": {
    "name": "ipython",
    "version": 3
   },
   "file_extension": ".py",
   "mimetype": "text/x-python",
   "name": "python",
   "nbconvert_exporter": "python",
   "pygments_lexer": "ipython3",
   "version": "3.9.6"
  }
 },
 "nbformat": 4,
 "nbformat_minor": 5
}
